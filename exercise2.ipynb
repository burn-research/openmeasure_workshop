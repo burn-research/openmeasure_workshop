{
 "cells": [
  {
   "cell_type": "markdown",
   "metadata": {},
   "source": [
    "## Exercise 2\n",
    "\n",
    "In the second exercise we will look at a practical problem."
   ]
  },
  {
   "cell_type": "code",
   "execution_count": null,
   "metadata": {},
   "outputs": [],
   "source": [
    "# Install zenodo_get to download the data\n",
    "! pip install zenodo_get\n"
   ]
  },
  {
   "cell_type": "code",
   "execution_count": 1,
   "metadata": {},
   "outputs": [
    {
     "name": "stdout",
     "output_type": "stream",
     "text": [
      "Title: Numerical simulations and experimental measurements of the ULB semi-industrial furnace for the development of a Digital Twin\n",
      "Keywords: Digital Twin, Flameless combustion, Furnace, CFD, Temperature measurements\n",
      "Publication date: 2023-08-30\n",
      "DOI: 10.5281/zenodo.8300372\n",
      "Total size: 748.7 MB\n",
      "\n",
      "Link: https://zenodo.org/api/files/90435c77-6765-4d50-b5c2-96155fcc0c6a/DT_dataset.zip   size: 748.7 MB\n",
      "100% [..................................................] 785063300 / 785063300\n",
      "Checksum is correct. (c9aeb72b44088a7cc53c7470d3d435f6)\n",
      "All files have been downloaded.\n"
     ]
    }
   ],
   "source": [
    "# Download the data\n",
    "! zenodo_get -d 10.5281/zenodo.7786311"
   ]
  },
  {
   "cell_type": "code",
   "execution_count": 2,
   "metadata": {},
   "outputs": [
    {
     "name": "stdout",
     "output_type": "stream",
     "text": [
      "Archive:  DT_dataset.zip\n",
      "   creating: DT_dataset/\n",
      "   creating: DT_dataset/Numerical_data/\n",
      "  inflating: __MACOSX/DT_dataset/._Numerical_data  \n",
      "  inflating: DT_dataset/.DS_Store    \n",
      "  inflating: __MACOSX/DT_dataset/._.DS_Store  \n",
      "  inflating: DT_dataset/grid.vtu     \n",
      "  inflating: __MACOSX/DT_dataset/._grid.vtu  \n",
      "  inflating: DT_dataset/cases_parameters.csv  \n",
      "  inflating: __MACOSX/DT_dataset/._cases_parameters.csv  \n",
      "  inflating: DT_dataset/README.txt   \n",
      "  inflating: __MACOSX/DT_dataset/._README.txt  \n",
      "   creating: DT_dataset/Experimenta_data/\n",
      "  inflating: DT_dataset/Numerical_data/Case44_20mm_0_17_H2_0_73phi_end_nox  \n",
      "  inflating: DT_dataset/Numerical_data/Case37_25mm_0_65H2_0_84phi_end_nox  \n",
      "  inflating: DT_dataset/Numerical_data/Case31_16mm_0_60H2_0_75phi_end_nox  \n",
      "  inflating: DT_dataset/Numerical_data/Case22_20mm_0_8H2_0_82phi_end_nox  \n",
      "  inflating: DT_dataset/Numerical_data/Case7_20mm_0_45_H2_0_72phi_end_nox  \n",
      "  inflating: DT_dataset/Numerical_data/Case12_16mm_0_60H2_0_93phi_end_nox  \n",
      "  inflating: DT_dataset/Numerical_data/Case34_16mm_0_40H2_0_90phi_end_nox  \n",
      "  inflating: DT_dataset/Numerical_data/Case11_20mm_0_30H2_0_89phi_end_nox  \n",
      "  inflating: DT_dataset/Numerical_data/Case23_16mm_0_30H2_0_78phi_end_nox  \n",
      "  inflating: DT_dataset/Numerical_data/Case3_20mm_0_9H2_0_85phi_end_nox  \n",
      "  inflating: DT_dataset/Numerical_data/Case39_25mm_0_45H2_0_85phi_end_nox  \n",
      "  inflating: DT_dataset/Numerical_data/Case19_20mm_0_15H2_0_97phi_end_nox  \n",
      "  inflating: DT_dataset/Numerical_data/Case24_16mm_0_05H2_0_83phi_end_nox  \n",
      "  inflating: DT_dataset/Numerical_data/Case14_20mm_0_10H2_0_88phi_end_nox  \n",
      "  inflating: DT_dataset/Numerical_data/Case25_25mm_0_80H2_0_76phi_end_nox  \n",
      "  inflating: DT_dataset/Numerical_data/Case1_20mm_0_6H2_0_88phi_end_nox  \n",
      "  inflating: DT_dataset/Numerical_data/Case41_16mm_0_90H2_0_87phi_end_nox  \n",
      "  inflating: DT_dataset/Numerical_data/Case33_25mm_0_80H2_0_90phi_end_nox  \n",
      "  inflating: DT_dataset/Numerical_data/Case27_25mm_0_20H2_0_76phi_end_nox  \n",
      "  inflating: DT_dataset/Numerical_data/Case6_25mm_0_70H2_0_94phi_end_nox  \n",
      "  inflating: DT_dataset/Numerical_data/Case17_16mm_0_50H2_0_99phi_end_nox  \n",
      "  inflating: DT_dataset/Numerical_data/Case40_16mm_0_20H2_0_73phi_end_nox  \n",
      "  inflating: DT_dataset/Numerical_data/Case29_25mm_0_25H2_0_85phi_end_nox  \n",
      "  inflating: DT_dataset/Numerical_data/Case46_25mm_0_11H2_0_96phi_end_nox  \n",
      "  inflating: DT_dataset/Numerical_data/Case42_16mm_0_30H2_0_97phi_end_nox  \n",
      "  inflating: DT_dataset/Numerical_data/Case43_20mm_0_50H2_0_95phi_end_nox  \n",
      "  inflating: DT_dataset/Numerical_data/Case15_25mm_0_90H2_0_74phi_end_nox  \n",
      "  inflating: DT_dataset/Numerical_data/Case28_20mm_0_50H2_0_83phi_end_nox  \n",
      "  inflating: DT_dataset/Numerical_data/Case10_20mm_0_75H2_0_98phi_end_nox  \n",
      "  inflating: DT_dataset/Numerical_data/Case38_16mm_0_80H2_0_96phi_end_nox  \n",
      "  inflating: DT_dataset/Numerical_data/Case2_20mm_0_45H2_0_8phi_end_nox  \n",
      "  inflating: DT_dataset/Numerical_data/Case45_20mm_0_9H2_0_70phi_end_nox  \n",
      "  inflating: DT_dataset/Numerical_data/Case8_25mm_0_65H2_0_91phi_end_nox  \n",
      "  inflating: DT_dataset/Numerical_data/Case21_25mm_0_95H2_0_90phi_end_nox  \n",
      "  inflating: DT_dataset/Numerical_data/Case30_20mm_0_20H2_0_80phi_end_nox  \n",
      "  inflating: DT_dataset/Numerical_data/Case5_20mm_0_H2_0_72phi_end_nox  \n",
      "  inflating: DT_dataset/Numerical_data/Case9_16mm_0_7H2_0_78phi_end_nox  \n",
      "  inflating: DT_dataset/Numerical_data/Case47_25mm_0_54H2_0_74phi_end_nox  \n",
      "  inflating: DT_dataset/Numerical_data/Case32_25mm_0_40H2_0_95phi_end_nox  \n",
      "  inflating: DT_dataset/Numerical_data/Case16_20mm_0_85H2_0_95phi_end_nox  \n",
      "  inflating: DT_dataset/Numerical_data/Case4_16mm_0_55H2_0_86phi_end_nox  \n",
      "  inflating: DT_dataset/Numerical_data/Case26_25mm_0_35H2_0_73phi_end_nox  \n",
      "  inflating: DT_dataset/Numerical_data/Case13_20mm_0_95H2_0_96phi_end_nox  \n",
      "  inflating: DT_dataset/Numerical_data/Case18_16mm_0_10H2_0_94phi_end_nox  \n",
      "  inflating: DT_dataset/Numerical_data/Case20_20mm_0_35_H2_0_70phi_end_nox  \n",
      "  inflating: DT_dataset/Experimenta_data/case12.csv  \n",
      "  inflating: __MACOSX/DT_dataset/Experimenta_data/._case12.csv  \n",
      "  inflating: DT_dataset/Experimenta_data/case23.csv  \n",
      "  inflating: __MACOSX/DT_dataset/Experimenta_data/._case23.csv  \n",
      "  inflating: DT_dataset/Experimenta_data/case24.csv  \n",
      "  inflating: __MACOSX/DT_dataset/Experimenta_data/._case24.csv  \n"
     ]
    }
   ],
   "source": [
    "# Unzip the dataset\n",
    "! unzip DT_dataset.zip"
   ]
  },
  {
   "cell_type": "code",
   "execution_count": null,
   "metadata": {},
   "outputs": [],
   "source": [
    "import pyvista as pv\n",
    "import pandas as pd\n",
    "\n",
    "path = './DT_dataset'\n",
    "mesh = pv.read(f'{path}/grid.vtu')\n",
    "\n",
    "sim_path = f'{path}/Numerical_data/Case6_25mm_0_70H2_0_94phi_end_nox'\n",
    "sim_df = pd.read_csv(sim_path)\n",
    "\n",
    "mesh['temperature'] = sim_df.iloc[:, -1] # temperature\n",
    "\n",
    "plotter = pv.Plotter()\n",
    "plotter.add_mesh(mesh, scalars='temperature')\n",
    "plotter.show()"
   ]
  },
  {
   "cell_type": "code",
   "execution_count": 15,
   "metadata": {},
   "outputs": [
    {
     "name": "stdout",
     "output_type": "stream",
     "text": [
      "Simulation 45/45\r"
     ]
    }
   ],
   "source": [
    "import numpy as np\n",
    "import glob\n",
    "from scipy.interpolate import griddata\n",
    "\n",
    "def read_simulation(filepath):\n",
    "    sim = np.array(pd.read_csv(filepath))\n",
    "    xyz = np.array(sim[:,1:4])\n",
    "\n",
    "    column = np.empty((n, ))\n",
    "    for i, f in enumerate(features):\n",
    "        if xyz.shape[0] != n_cells:\n",
    "            column[i*n_cells:(i+1)*n_cells] = griddata(xyz, sim[:,4+i], xyz_25, method='nearest')\n",
    "        else:\n",
    "            column[i*n_cells:(i+1)*n_cells] = sim[:,4+i]\n",
    "\n",
    "    return column\n",
    "\n",
    "P_df = pd.read_csv(f'{path}/cases_parameters.csv')\n",
    "P = np.array(P_df.iloc[:,2:])\n",
    "m = P.shape[0]\n",
    "\n",
    "features = ['NOx', 'CO', 'OH', 'H2', 'H2O', 'CO2', 'O2', 'CH4', 'T']\n",
    "n_features = len(features)\n",
    "\n",
    "# The simulations with different inlet diameter use different grids.\n",
    "# We interpolate them on the coarsest grid, which is the one for D=25mm.\n",
    "\n",
    "filepath = glob.glob(f'{path}/Numerical_data/Case6_*')\n",
    "xyz_25 = np.array(pd.read_csv(filepath[0]).iloc[:,1:4])\n",
    "n_cells = xyz_25.shape[0]\n",
    "\n",
    "n = n_features*n_cells\n",
    "X = np.empty((n,m))\n",
    "for i in range(P_df.shape[0]):\n",
    "    filepath =  glob.glob(f'{path}/Numerical_data/Case{P_df.iloc[i,1]}_*')\n",
    "    X[:,i] = read_simulation(filepath[0])\n",
    "    print(f'Simulation {i+1}/{m}', end='\\r', flush=True)"
   ]
  },
  {
   "cell_type": "code",
   "execution_count": 17,
   "metadata": {},
   "outputs": [
    {
     "data": {
      "image/png": "[encoded data removed]",
      "text/plain": [
       "<Figure size 388.8x432 with 3 Axes>"
      ]
     },
     "metadata": {
      "needs_background": "light"
     },
     "output_type": "display_data"
    }
   ],
   "source": [
    "from gpr import GPR\n",
    "import matplotlib as mpl\n",
    "import matplotlib.pyplot as plt\n",
    "\n",
    "def plot_comparison(mesh, zs, normal, origin, axis, feature, cmap='viridis'):\n",
    "    n_cases = len(zs)\n",
    "    cases = ['Obs.', 'Pred.']  \n",
    "    for i, case in enumerate(cases):\n",
    "        mesh[case] = zs[i]\n",
    "        \n",
    "    plane = mesh.ctp().slice(normal=normal, origin=origin, generate_triangles=True)\n",
    "    \n",
    "    vmin = plane[cases[0]].min()\n",
    "    vmax = plane[cases[0]].max()\n",
    "\n",
    "    extent_min = [-0.2, -0.2, 0.1]\n",
    "    extent_max = [0.2, 0.2, 0.5]\n",
    "\n",
    "    x = plane.points\n",
    "    tri = plane.faces.reshape((-1,4))[:, 1:]\n",
    "    \n",
    "    fig, axs = plt.subplots(ncols=n_cases, figsize=(5.4, 6))\n",
    "    levels = 64\n",
    "\n",
    "    axis_labels = ['x', 'y', 'z']\n",
    "    fig.subplots_adjust(bottom=0., top=1., left=0, right=.925, wspace=0.0, hspace=0.05)\n",
    "\n",
    "    for i, ax in enumerate(axs):\n",
    "        if i == 0:\n",
    "            ax.invert_xaxis()\n",
    "        \n",
    "        cs = ax.tricontourf(x[:,axis[0]], x[:,axis[1]], tri, plane[cases[i]], cmap=cmap,\n",
    "                        vmin=vmin, vmax=vmax, levels=levels)\n",
    "        \n",
    "        ax.set_aspect('equal')\n",
    "        ax.set_xlabel(f'{axis_labels[axis[0]]} (mm)')\n",
    "        ax.set_title(cases[i])\n",
    "\n",
    "        if i > 0:\n",
    "            ax.tick_params(axis='y', which='both', left=False, labelleft=False)\n",
    "        else:\n",
    "            ax.set_ylabel(f'{axis_labels[axis[1]]} (mm)')\n",
    "    \n",
    "    \n",
    "    ax_bounds = axs[1].get_position().bounds\n",
    "    cb_ax = fig.add_axes([0.95, ax_bounds[1], 0.025, ax_bounds[3]])\n",
    "    norm = mpl.colors.Normalize(vmin=vmin, vmax=vmax)\n",
    "    cbar = fig.colorbar(mpl.cm.ScalarMappable(norm=norm, cmap=cmap), \n",
    "                        cax=cb_ax, orientation='vertical', label=feature)\n",
    "    fmt = mpl.ticker.ScalarFormatter(useMathText=True)\n",
    "    cbar.formatter.set_powerlimits((0, 4))\n",
    "    cb_ax.yaxis.set_offset_position('left')\n",
    "    \n",
    "    plt.show()\n",
    "\n",
    "i_test = [0, 21, 27, 38] # index of the testing simulations\n",
    "\n",
    "P_train = np.delete(P, i_test, axis=0)\n",
    "P_test = P[i_test, :]\n",
    "\n",
    "X_train = np.delete(X, i_test, axis=1)\n",
    "X_test = X[:, i_test]\n",
    "\n",
    "# Create the gpr object\n",
    "gpr = GPR(X_train, n_features, xyz_25, P_train)\n",
    "\n",
    "# Calculates the POD coefficients ap and the uncertainty for the test simulations\n",
    "models, likelihoods = gpr.fit(verbose=False)\n",
    "Ap, Sigmap = gpr.predict(P_test)\n",
    "\n",
    "# Reconstruct the high-dimensional state from the POD coefficients\n",
    "Xp = gpr.reconstruct(Ap)\n",
    "\n",
    "# Select the feature to plot\n",
    "str_ind = 'OH'\n",
    "ind = features.index(str_ind)\n",
    "\n",
    "x_test = X_test[ind*n_cells:(ind+1)*n_cells,3]\n",
    "xp_test = Xp[ind*n_cells:(ind+1)*n_cells, 3]\n",
    "\n",
    "plot_comparison(mesh, [x_test, xp_test], (0,1,0), (0.0, 1.0e-3, 0), (0,2), 'OH')"
   ]
  }
 ],
 "metadata": {
  "kernelspec": {
   "display_name": "env_ml2",
   "language": "python",
   "name": "python3"
  },
  "language_info": {
   "codemirror_mode": {
    "name": "ipython",
    "version": 3
   },
   "file_extension": ".py",
   "mimetype": "text/x-python",
   "name": "python",
   "nbconvert_exporter": "python",
   "pygments_lexer": "ipython3",
   "version": "3.9.16"
  },
  "orig_nbformat": 4
 },
 "nbformat": 4,
 "nbformat_minor": 2
}
