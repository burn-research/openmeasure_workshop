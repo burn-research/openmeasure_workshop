{
  "cells": [
    {
      "cell_type": "code",
      "execution_count": null,
      "metadata": {
        "colab": {
          "base_uri": "https://localhost:8080/"
        },
        "id": "iicAaKfGvOFe",
        "outputId": "f51360e5-d2e3-48ec-8c3a-33b05346b1b1"
      },
      "outputs": [],
      "source": [
        "# Install zenodo_get to download the data\n",
        "! pip install -q zenodo_get"
      ]
    },
    {
      "cell_type": "code",
      "execution_count": null,
      "metadata": {
        "colab": {
          "base_uri": "https://localhost:8080/"
        },
        "id": "qZt5az_Svder",
        "outputId": "4017dcc1-b8e6-4ecf-a5ac-3d8751e94e83"
      },
      "outputs": [],
      "source": [
        "# Download the data\n",
        "! zenodo_get -d 10.5281/zenodo.7786311"
      ]
    },
    {
      "cell_type": "code",
      "execution_count": null,
      "metadata": {
        "colab": {
          "base_uri": "https://localhost:8080/"
        },
        "id": "lrcEVteG3O3P",
        "outputId": "e2b21359-d719-4bbf-8b49-8d333e0bad3c"
      },
      "outputs": [],
      "source": [
        "# Unzip the dataset\n",
        "! unzip DT_dataset.zip"
      ]
    },
    {
      "cell_type": "code",
      "execution_count": null,
      "metadata": {
        "id": "IrcSOIt68UjW"
      },
      "outputs": [],
      "source": [
        "# Install openmeasure\n",
        "! pip install openmeasure"
      ]
    },
    {
      "cell_type": "code",
      "execution_count": null,
      "metadata": {
        "colab": {
          "base_uri": "https://localhost:8080/"
        },
        "id": "I5JUiuZI7zvE",
        "outputId": "fb155b18-7d75-47dc-9f40-c130fddc691a"
      },
      "outputs": [],
      "source": [
        "# This is used to make Pyvista work on Colab\n",
        "try:\n",
        "    import google.colab  # noqa: F401\n",
        "except ImportError:\n",
        "    import pyvista as pv\n",
        "else:\n",
        "    !wget \"https://fem-on-colab.github.io/releases/vtk-install.sh\" -O \"/tmp/vtk-install.sh\" && bash \"/tmp/vtk-install.sh\"\n",
        "    import pyvista as pv"
      ]
    },
    {
      "cell_type": "code",
      "execution_count": null,
      "metadata": {
        "colab": {
          "base_uri": "https://localhost:8080/",
          "height": 327
        },
        "id": "CzPGFROi4YLW",
        "outputId": "569987aa-7b06-46a2-bd55-0aca022fa6b1"
      },
      "outputs": [],
      "source": [
        "# Plot the mesh using Pyvista\n",
        "\n",
        "import pandas as pd\n",
        "import panel\n",
        "\n",
        "panel.extension(\"vtk\")\n",
        "\n",
        "path = './DT_dataset'\n",
        "mesh = pv.read(f'{path}/grid.vtu')\n",
        "\n",
        "sim_path = f'{path}/Numerical_data/Case6_25mm_0_70H2_0_94phi_end_nox'\n",
        "sim_df = pd.read_csv(sim_path)\n",
        "\n",
        "mesh['temperature'] = sim_df.iloc[:, -1] # temperature\n",
        "\n",
        "panel_plotter = pv.Plotter(notebook=True)\n",
        "panel_plotter.add_mesh(mesh, scalars='temperature')\n",
        "panel_plotter._on_first_render_request()\n",
        "panel.panel(\n",
        "    panel_plotter.render_window, orientation_widget=panel_plotter.renderer.axes_enabled,\n",
        "    enable_keybindings=False, sizing_mode=\"stretch_width\"\n",
        ")\n"
      ]
    },
    {
      "cell_type": "code",
      "execution_count": null,
      "metadata": {
        "colab": {
          "base_uri": "https://localhost:8080/"
        },
        "id": "nIxXxb907er7",
        "outputId": "3befafb6-e8f4-4960-c7ca-f8cf2fa7602d"
      },
      "outputs": [],
      "source": [
        "# Prepare the data matrix\n",
        "\n",
        "import numpy as np\n",
        "import glob\n",
        "from scipy.interpolate import griddata\n",
        "\n",
        "def read_simulation(filepath):\n",
        "    sim = np.array(pd.read_csv(filepath))\n",
        "    xyz = np.array(sim[:,1:4])\n",
        "\n",
        "    column = np.empty((n, ))\n",
        "    for i, f in enumerate(features):\n",
        "        if xyz.shape[0] != n_cells:\n",
        "            column[i*n_cells:(i+1)*n_cells] = griddata(xyz, sim[:,4+i], xyz_25, method='nearest')\n",
        "        else:\n",
        "            column[i*n_cells:(i+1)*n_cells] = sim[:,4+i]\n",
        "\n",
        "    return column\n",
        "\n",
        "P_df = pd.read_csv(f'{path}/cases_parameters.csv')\n",
        "P = np.array(P_df.iloc[:,2:])\n",
        "m = P.shape[0]\n",
        "\n",
        "features = ['NOx', 'CO', 'OH', 'H2', 'H2O', 'CO2', 'O2', 'CH4', 'T']\n",
        "n_features = len(features)\n",
        "\n",
        "# The simulations with different inlet diameter use different grids.\n",
        "# We interpolate them on the coarsest grid, which is the one for D=25mm.\n",
        "\n",
        "filepath = glob.glob(f'{path}/Numerical_data/Case6_*')\n",
        "xyz_25 = np.array(pd.read_csv(filepath[0]).iloc[:,1:4])\n",
        "n_cells = xyz_25.shape[0]\n",
        "\n",
        "n = n_features*n_cells\n",
        "X = np.empty((n,m))\n",
        "for i in range(P_df.shape[0]):\n",
        "    filepath =  glob.glob(f'{path}/Numerical_data/Case{P_df.iloc[i,1]}_*')\n",
        "    X[:,i] = read_simulation(filepath[0])\n",
        "    print(f'\\r Simulation {i+1}/{m}', end='', flush=True)"
      ]
    },
    {
      "cell_type": "code",
      "execution_count": null,
      "metadata": {
        "colab": {
          "base_uri": "https://localhost:8080/",
          "height": 702
        },
        "id": "zLJzexZM8Axq",
        "outputId": "73fff797-4cc3-4948-a452-d292caaa1d11"
      },
      "outputs": [],
      "source": [
        "# Build the ROM and test it\n",
        "\n",
        "from gpr import GPR\n",
        "import matplotlib as mpl\n",
        "import matplotlib.pyplot as plt\n",
        "\n",
        "def plot_comparison(mesh, zs, normal, origin, axis, feature, cmap='viridis'):\n",
        "    n_cases = len(zs)\n",
        "    cases = ['Obs.', 'Pred.']\n",
        "    for i, case in enumerate(cases):\n",
        "        mesh[case] = zs[i]\n",
        "\n",
        "    plane = mesh.ctp().slice(normal=normal, origin=origin, generate_triangles=True)\n",
        "\n",
        "    vmin = plane[cases[0]].min()\n",
        "    vmax = plane[cases[0]].max()\n",
        "\n",
        "    extent_min = [-0.2, -0.2, 0.1]\n",
        "    extent_max = [0.2, 0.2, 0.5]\n",
        "\n",
        "    x = plane.points\n",
        "    tri = plane.faces.reshape((-1,4))[:, 1:]\n",
        "\n",
        "    fig, axs = plt.subplots(ncols=n_cases, figsize=(5.4, 6))\n",
        "    levels = 64\n",
        "\n",
        "    axis_labels = ['x', 'y', 'z']\n",
        "    fig.subplots_adjust(bottom=0., top=1., left=0, right=.925, wspace=0.0, hspace=0.05)\n",
        "\n",
        "    for i, ax in enumerate(axs):\n",
        "        if i == 0:\n",
        "            ax.invert_xaxis()\n",
        "\n",
        "        cs = ax.tricontourf(x[:,axis[0]], x[:,axis[1]], tri, plane[cases[i]], cmap=cmap,\n",
        "                        vmin=vmin, vmax=vmax, levels=levels)\n",
        "\n",
        "        ax.set_aspect('equal')\n",
        "        ax.set_xlabel(f'{axis_labels[axis[0]]} (mm)')\n",
        "        ax.set_title(cases[i])\n",
        "\n",
        "        if i > 0:\n",
        "            ax.tick_params(axis='y', which='both', left=False, labelleft=False)\n",
        "        else:\n",
        "            ax.set_ylabel(f'{axis_labels[axis[1]]} (mm)')\n",
        "\n",
        "\n",
        "    ax_bounds = axs[1].get_position().bounds\n",
        "    cb_ax = fig.add_axes([0.95, ax_bounds[1], 0.025, ax_bounds[3]])\n",
        "    norm = mpl.colors.Normalize(vmin=vmin, vmax=vmax)\n",
        "    cbar = fig.colorbar(mpl.cm.ScalarMappable(norm=norm, cmap=cmap),\n",
        "                        cax=cb_ax, orientation='vertical', label=feature)\n",
        "    fmt = mpl.ticker.ScalarFormatter(useMathText=True)\n",
        "    cbar.formatter.set_powerlimits((0, 4))\n",
        "    cb_ax.yaxis.set_offset_position('left')\n",
        "\n",
        "    plt.show()\n",
        "\n",
        "i_test = [0, 21, 27, 38] # index of the testing simulations\n",
        "\n",
        "P_train = np.delete(P, i_test, axis=0)\n",
        "P_test = P[i_test, :]\n",
        "\n",
        "X_train = np.delete(X, i_test, axis=1)\n",
        "X_test = X[:, i_test]\n",
        "\n",
        "# Create the gpr object\n",
        "gpr = GPR(X_train, n_features, xyz_25, P_train)\n",
        "\n",
        "# Calculates the POD coefficients ap and the uncertainty for the test simulations\n",
        "models, likelihoods = gpr.fit(verbose=False)\n",
        "Ap, Sigmap = gpr.predict(P_test)\n",
        "\n",
        "# Reconstruct the high-dimensional state from the POD coefficients\n",
        "Xp = gpr.reconstruct(Ap)\n",
        "\n",
        "# Select the feature to plot\n",
        "str_ind = 'OH'\n",
        "ind = features.index(str_ind)\n",
        "\n",
        "x_test = X_test[ind*n_cells:(ind+1)*n_cells,3]\n",
        "xp_test = Xp[ind*n_cells:(ind+1)*n_cells, 3]\n",
        "\n",
        "plot_comparison(mesh, [x_test, xp_test], (0,1,0), (0.0, 1.0e-3, 0), (0,2), 'OH')"
      ]
    }
  ],
  "metadata": {
    "colab": {
      "provenance": []
    },
    "kernelspec": {
      "display_name": "Python 3",
      "name": "python3"
    },
    "language_info": {
      "name": "python"
    }
  },
  "nbformat": 4,
  "nbformat_minor": 0
}
